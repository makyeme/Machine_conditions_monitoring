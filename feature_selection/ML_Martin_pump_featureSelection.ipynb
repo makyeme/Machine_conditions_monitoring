{
 "cells": [
  {
   "cell_type": "code",
   "execution_count": null,
   "id": "verbal-incidence",
   "metadata": {},
   "outputs": [],
   "source": [
    "import pandas as pd\n",
    "import numpy as np\n",
    "import librosa \n",
    "\n",
    "import seaborn as sn\n",
    "import matplotlib.pyplot as plt\n",
    "import IPython.display as ipd #palying audio\n",
    "%matplotlib inline\n",
    "import matplotlib.pyplot as plt\n",
    "import librosa.display\n",
    "import os\n",
    "import csv\n",
    "import soundfile\n",
    "import sklearn\n",
    "from matplotlib.colors import Normalize\n",
    "import glob\n",
    "from scipy.stats import kurtosis, skew\n",
    "from sklearn.model_selection import train_test_split\n",
    "from sklearn.preprocessing import StandardScaler\n",
    "from sklearn.preprocessing import MinMaxScaler\n",
    "\n",
    "\n",
    "from sklearn.neighbors import KNeighborsClassifier\n",
    "from sklearn.svm import SVC\n",
    "from sklearn.tree import DecisionTreeClassifier\n",
    "from sklearn.ensemble import RandomForestClassifier, AdaBoostClassifier\n",
    "from sklearn.naive_bayes import GaussianNB\n",
    "from sklearn.discriminant_analysis import QuadraticDiscriminantAnalysis\n",
    "from sklearn.metrics import classification_report, confusion_matrix, accuracy_score\n",
    "from sklearn.model_selection import cross_validate\n",
    "import pickle\n",
    "from sklearn.feature_selection import SelectFromModel\n",
    "from sklearn.feature_selection import RFE"
   ]
  },
  {
   "cell_type": "code",
   "execution_count": null,
   "id": "german-junior",
   "metadata": {},
   "outputs": [],
   "source": [
    "path = os.chdir('C:/Users/makye/OneDrive/Documents/Career/BeCode/study/Data_preprocessing/audioProcessing/pump')\n",
    "print(os.getcwd())"
   ]
  },
  {
   "cell_type": "code",
   "execution_count": null,
   "id": "ceramic-commander",
   "metadata": {},
   "outputs": [],
   "source": [
    "# load dataset\n",
    "\n",
    "def loadData():\n",
    "    \n",
    "    #Pulling the data\n",
    "    path = 'martin_pump40.csv'\n",
    "    df = pd.read_csv(path)\n",
    "    return df\n",
    "\n",
    "df = loadData()\n",
    "df\n"
   ]
  },
  {
   "cell_type": "code",
   "execution_count": null,
   "id": "alpine-command",
   "metadata": {},
   "outputs": [],
   "source": [
    "# #Creating header for features\n",
    "# header = ''\n",
    "\n",
    "# variables = ['chroma_stft', 'mel_spec',  'rms_f',  'spec_cent', 'spec_bw', 'rolloff', 'zcrf']\n",
    "\n",
    "# for i in variables:\n",
    "    \n",
    "#     header += f' mean_{i}'\n",
    "#     header += f' min_{i}'\n",
    "#     header += f' max_{i}'\n",
    "#     header += f' std_{i}'\n",
    "#     header += f' median_{i}'\n",
    "    \n",
    "# for i in range(1, 41):\n",
    "#     header += f' mean_mfcc{i}'\n",
    "        \n",
    "# for i in range(1, 41):\n",
    "#     header += f' min_mfcc{i}'\n",
    "        \n",
    "# for i in range(1, 41):\n",
    "#     header += f' max_mfcc{i}'\n",
    "        \n",
    "# for i in range(1, 41):\n",
    "#     header += f' std_mfcc{i}'\n",
    "        \n",
    "# for i in range(1, 41):\n",
    "#     header += f' median_mfcc{i}'\n",
    "    \n",
    "# header = header.split()"
   ]
  },
  {
   "cell_type": "code",
   "execution_count": null,
   "id": "informed-pillow",
   "metadata": {},
   "outputs": [],
   "source": [
    "# # Adding header to features\n",
    "\n",
    "# features  #Selecting features\n",
    "# features.columns = header # Adding header to features\n",
    "# features"
   ]
  },
  {
   "cell_type": "code",
   "execution_count": 9,
   "id": "considerable-rotation",
   "metadata": {},
   "outputs": [],
   "source": [
    "#defining features and target/scaling\n",
    "\n",
    "X = df.iloc[:, :-1]\n",
    "y = df.iloc[:, -1]\n",
    "\n",
    "scaler = StandardScaler()\n",
    "# keep our unscaled features just in case we need to process them alternatively\n",
    "X_scaled = scaler.fit_transform(X)\n",
    "\n",
    "scaler = MinMaxScaler()\n",
    "# keep our unscaled features just in case we need to process them alternatively\n",
    "X_minmax = scaler.fit_transform(X)\n"
   ]
  },
  {
   "cell_type": "code",
   "execution_count": 10,
   "id": "large-subsection",
   "metadata": {},
   "outputs": [],
   "source": [
    "############# Unscaled test/train set #############\n",
    "X_train, X_test, y_train, y_test = train_test_split(\n",
    "    X, \n",
    "    y, \n",
    "    test_size=0.2, \n",
    "    random_state=42\n",
    ")\n",
    "\n",
    "############ Standard Scaled test/train set ###########\n",
    "# The labels/classes (y_train, y_test) never change, keep old values \n",
    "X_train_scaled, X_test_scaled, _, _ = train_test_split(\n",
    "    X_scaled, \n",
    "    y, \n",
    "    test_size=0.2, \n",
    "    random_state=42\n",
    ")\n",
    "\n",
    "############# MinMax Scaled test/train set ###############\n",
    "# The labels/classes (y_train, y_test) never change, keep old values \n",
    "X_train_minmax, X_test_minmax, _, _ = train_test_split(\n",
    "    X_scaled, \n",
    "    y, \n",
    "    test_size=0.2, \n",
    "    random_state=42\n",
    ")"
   ]
  },
  {
   "cell_type": "code",
   "execution_count": null,
   "id": "elegant-converter",
   "metadata": {},
   "outputs": [],
   "source": [
    "#Unscaled:\n",
    "\n",
    "classification_models = [\n",
    "    KNeighborsClassifier(),#(3),\n",
    "    SVC(kernel='linear'),#, C=0.025),\n",
    "    SVC(kernel='rbf'),\n",
    "    DecisionTreeClassifier(),#max_depth=5),\n",
    "    RandomForestClassifier(),#max_depth=5, n_estimators=10, max_features=1),\n",
    "    AdaBoostClassifier(),\n",
    "    GaussianNB(),\n",
    "    QuadraticDiscriminantAnalysis()]\n",
    "\n",
    "scores = []\n",
    "for model in classification_models:\n",
    "    model.fit(X_train, y_train) #Unscaled train\n",
    "    score = model.score(X_test, y_test) #unscaled test\n",
    "    model_name = type(model).__name__\n",
    "    if model_name=='SVC' and model.kernel=='rbf': model_name+=' RBF kernel'\n",
    "    scores.append((model_name,(f'{100*score:.2f}%')))\n",
    "# Make it pretty\n",
    "scores_df = pd.DataFrame(scores,columns=['Classifier','Accuracy Score'])\n",
    "scores_df.sort_values(by='Accuracy Score',axis=0,ascending=False)"
   ]
  },
  {
   "cell_type": "code",
   "execution_count": null,
   "id": "optimum-classic",
   "metadata": {},
   "outputs": [],
   "source": [
    "#Scaled\n",
    "classification_models = [\n",
    "    KNeighborsClassifier(),#(3),\n",
    "    SVC(kernel='linear'),#, C=0.025),\n",
    "    SVC(kernel='rbf'),\n",
    "    DecisionTreeClassifier(),#max_depth=5),\n",
    "    RandomForestClassifier(),#max_depth=5, n_estimators=10, max_features=1),\n",
    "    AdaBoostClassifier(),\n",
    "    GaussianNB(),\n",
    "    QuadraticDiscriminantAnalysis()]\n",
    "\n",
    "scores = []\n",
    "for model in classification_models:\n",
    "    model.fit(X_train_scaled, y_train) #scaled train\n",
    "    score = model.score(X_test_scaled, y_test) #Scaled test\n",
    "    model_name = type(model).__name__\n",
    "    if model_name=='SVC' and model.kernel=='rbf': model_name+=' RBF kernel'\n",
    "    scores.append((model_name,(f'{100*score:.2f}%')))\n",
    "# Make it pretty\n",
    "scores_df = pd.DataFrame(scores,columns=['Classifier','Accuracy Score'])\n",
    "scores_df.sort_values(by='Accuracy Score',axis=0,ascending=False)"
   ]
  },
  {
   "cell_type": "code",
   "execution_count": 11,
   "id": "handmade-schedule",
   "metadata": {},
   "outputs": [],
   "source": [
    "#RandomForest Classifier (Scaled features)\n",
    "classifier = RandomForestClassifier(random_state=42, n_estimators=150)\n",
    "# classifier  = SVC()\n",
    "classifier.fit(X_train_scaled, y_train) #scaled train\n",
    "# score = model.score(X_test_scaled, y_test)\n",
    "y_pred = classifier.predict(X_test_scaled)"
   ]
  },
  {
   "cell_type": "code",
   "execution_count": null,
   "id": "regional-balance",
   "metadata": {},
   "outputs": [],
   "source": [
    "def Metrics(y_test, y_pred):\n",
    "    print(confusion_matrix(y_test,y_pred))\n",
    "    print(classification_report(y_test,y_pred))\n",
    "    print(accuracy_score(y_test, y_pred))\n",
    "    \n",
    "Metrics(y_test, y_pred)"
   ]
  },
  {
   "cell_type": "code",
   "execution_count": null,
   "id": "amino-therapy",
   "metadata": {},
   "outputs": [],
   "source": [
    "#Plotting confusion matrix\n",
    "cm = confusion_matrix(y_test,y_pred)\n",
    "plt.figure(figsize = (10,7))\n",
    "sn.heatmap(cm, annot = True)\n",
    "plt.xlabel('Predicted')\n",
    "plt.ylabel('True Values')"
   ]
  },
  {
   "cell_type": "code",
   "execution_count": null,
   "id": "alpha-voltage",
   "metadata": {},
   "outputs": [],
   "source": [
    "#Cross Validation????\n",
    "cv = cross_validate(classifier, X_scaled, y, cv=5)\n",
    "print(cv['test_score'])\n",
    "print(cv['test_score'].mean())"
   ]
  },
  {
   "cell_type": "code",
   "execution_count": null,
   "id": "decent-indie",
   "metadata": {},
   "outputs": [],
   "source": [
    "#Save model\n",
    "filename = 'finalized_model_pumpRF76Sc.sav'\n",
    "pickle.dump(classifier, open(filename, 'wb'))\n",
    " "
   ]
  },
  {
   "cell_type": "code",
   "execution_count": null,
   "id": "injured-skill",
   "metadata": {},
   "outputs": [],
   "source": [
    "# Calculate & plot Feature importance \n",
    "importance = list(classifier.feature_importances_)\n",
    "importance.sort()\n",
    "\n",
    "# summarize feature importance\n",
    "for i,v in enumerate(importance):\n",
    "    print('Feature: %0d, Score: %.5f' % (i,v))\n",
    "\n",
    "# plot feature importance\n",
    "plt.barh([x for x in range(len(importance))], importance)\n",
    "plt.show()"
   ]
  },
  {
   "cell_type": "code",
   "execution_count": null,
   "id": "transparent-chester",
   "metadata": {},
   "outputs": [],
   "source": [
    "# Calculating and plotting feature importance\n",
    "\n",
    "def plot_feature_importance(importance,names,model_type):\n",
    "\n",
    "                #Create arrays from feature importance and feature names\n",
    "                feature_importance = np.array(importance)\n",
    "                feature_names = np.array(names)\n",
    "\n",
    "                #Create a DataFrame using a Dictionary\n",
    "                data={'feature_names':feature_names,'feature_importance':feature_importance}\n",
    "                fi_df = pd.DataFrame(data)\n",
    "\n",
    "                #Sort the DataFrame in order decreasing feature importance\n",
    "                fi_df.sort_values(by=['feature_importance'], ascending=False,inplace=True)\n",
    "\n",
    "                #Define size of bar plot\n",
    "                plt.figure(figsize=(10,8))\n",
    "                #Plot Searborn bar chart\n",
    "                sn.barplot(x=fi_df['feature_importance'], y=fi_df['feature_names'])\n",
    "                #Add chart labels\n",
    "                plt.tick_params(axis='x', which='major', labelsize= 'small', rotation=45)\n",
    "                plt.title(model_type + 'FEATURE IMPORTANCE')\n",
    "                plt.xlabel('FEATURE IMPORTANCE')\n",
    "                plt.ylabel('FEATURE NAMES')\n",
    "\n",
    "\n",
    "# calling function\n",
    "plot_feature_importance(importance, features.columns,'RANDOM FOREST')\n"
   ]
  },
  {
   "cell_type": "code",
   "execution_count": null,
   "id": "lasting-michael",
   "metadata": {},
   "outputs": [],
   "source": [
    "# Feature selection by feature importance of random forest classifier\n",
    "\n",
    "#Selecting important features\n",
    "sel = SelectFromModel(RandomForestClassifier(n_estimators=150, random_state=42, n_jobs=-1))\n",
    "sel.fit(X_train, y_train)\n",
    "sel.get_support()#Returns array of boolean values with importance status"
   ]
  },
  {
   "cell_type": "code",
   "execution_count": null,
   "id": "expressed-newfoundland",
   "metadata": {},
   "outputs": [],
   "source": [
    "#Feature columns\n",
    "X_train.columns"
   ]
  },
  {
   "cell_type": "code",
   "execution_count": null,
   "id": "accessory-parcel",
   "metadata": {},
   "outputs": [],
   "source": [
    "#retained features\n",
    "retained = X_train.columns[sel.get_support()]\n",
    "retained"
   ]
  },
  {
   "cell_type": "code",
   "execution_count": null,
   "id": "central-default",
   "metadata": {},
   "outputs": [],
   "source": [
    "#Number of retained features\n",
    "len(retained)"
   ]
  },
  {
   "cell_type": "code",
   "execution_count": null,
   "id": "technical-tongue",
   "metadata": {},
   "outputs": [],
   "source": [
    "# overall mean importance of selected features\n",
    "print(np.mean(sel.estimator_.feature_importances_))\n",
    "\n",
    "#features above the mean importance carry more weight\n",
    "sel.estimator_.feature_importances_"
   ]
  },
  {
   "cell_type": "code",
   "execution_count": null,
   "id": "defined-sweet",
   "metadata": {},
   "outputs": [],
   "source": [
    "#function to call alogarithm for RandomForest\n",
    "def run_randomForest(X_train, X_test, y_train, y_test):\n",
    "    clf = RandomForestClassifier(n_estimators=35, random_state=42, n_jobs=-1)\n",
    "    clf.fit(X_train, y_train)\n",
    "    y_pred = clf.predict(X_test)\n",
    "    print(confusion_matrix(y_test,y_pred))\n",
    "    print(classification_report(y_test,y_pred))\n",
    "    print('Accuracy:', accuracy_score(y_test, y_pred))"
   ]
  },
  {
   "cell_type": "code",
   "execution_count": null,
   "id": "colored-deployment",
   "metadata": {},
   "outputs": [],
   "source": [
    "%%time\n",
    "#Calling function on untrimmed dataset\n",
    "\n",
    "run_randomForest(X_train, X_test, y_train, y_test)"
   ]
  },
  {
   "cell_type": "code",
   "execution_count": null,
   "id": "internal-weather",
   "metadata": {},
   "outputs": [],
   "source": [
    "%%time\n",
    "\n",
    "X_train_rfc = sel.transform(X_train)\n",
    "X_test_rfc = sel.transform(X_test)\n",
    "\n",
    "#Calling function on trimmed dataset (with selected features)\n",
    "run_randomForest(X_train_rfc, X_test_rfc, y_train, y_test)\n",
    "\n"
   ]
  },
  {
   "cell_type": "code",
   "execution_count": null,
   "id": "alternate-registrar",
   "metadata": {},
   "outputs": [],
   "source": [
    "\n",
    "X_train_rfc "
   ]
  },
  {
   "cell_type": "code",
   "execution_count": null,
   "id": "identical-center",
   "metadata": {},
   "outputs": [],
   "source": [
    "#Random Forest unscaled, SVC unscaled"
   ]
  },
  {
   "cell_type": "code",
   "execution_count": null,
   "id": "unlikely-diving",
   "metadata": {},
   "outputs": [],
   "source": [
    "#create overall dataframe \n",
    "\n",
    "#Append target to features dataframe\n",
    "new_df = pd.concat([features, y], axis=1)\n",
    "\n",
    "#Adding column 'machine ID' (pump = 4)\n",
    "new_df['Machine_ID'] = 4\n",
    "new_df\n",
    "\n",
    "\n",
    "#CSV of dataFrame\n",
    "\n",
    "def createCsv(df):\n",
    "    \n",
    "\n",
    "    df.to_csv('martin_pump40.csv', index=False)\n",
    "    \n",
    "createCsv(new_df)"
   ]
  },
  {
   "cell_type": "code",
   "execution_count": null,
   "id": "beginning-involvement",
   "metadata": {},
   "outputs": [],
   "source": [
    "\n",
    "# some time later...\n",
    " \n",
    "# # load the model from disk\n",
    "# loaded_model = pickle.load(open(filename, 'rb'))\n",
    "# result = loaded"
   ]
  }
 ],
 "metadata": {
  "kernelspec": {
   "display_name": "Python 3",
   "language": "python",
   "name": "python3"
  },
  "language_info": {
   "codemirror_mode": {
    "name": "ipython",
    "version": 3
   },
   "file_extension": ".py",
   "mimetype": "text/x-python",
   "name": "python",
   "nbconvert_exporter": "python",
   "pygments_lexer": "ipython3",
   "version": "3.8.8"
  }
 },
 "nbformat": 4,
 "nbformat_minor": 5
}
