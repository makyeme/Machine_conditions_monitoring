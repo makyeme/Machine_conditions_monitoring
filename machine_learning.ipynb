{
 "cells": [
  {
   "cell_type": "markdown",
   "id": "adequate-buyer",
   "metadata": {},
   "source": [
    "# Importing"
   ]
  },
  {
   "cell_type": "code",
   "execution_count": 13,
   "id": "spectacular-computer",
   "metadata": {},
   "outputs": [],
   "source": [
    "import pandas as pd\n",
    "import numpy as np\n",
    "from sklearn.model_selection import train_test_split\n",
    "from sklearn.ensemble import RandomForestClassifier"
   ]
  },
  {
   "cell_type": "code",
   "execution_count": 2,
   "id": "quarterly-basics",
   "metadata": {},
   "outputs": [],
   "source": [
    "df = pd.read_csv('features/features_pump.csv', index_col = 0)"
   ]
  },
  {
   "cell_type": "markdown",
   "id": "common-northwest",
   "metadata": {},
   "source": [
    "# Cleaning"
   ]
  },
  {
   "cell_type": "code",
   "execution_count": 3,
   "id": "black-landing",
   "metadata": {},
   "outputs": [],
   "source": [
    "df.loc[:, 'abnormal'] = df['path'].apply(lambda string: 1 if 'abnormal' in string else 0)"
   ]
  },
  {
   "cell_type": "code",
   "execution_count": 4,
   "id": "changed-yesterday",
   "metadata": {},
   "outputs": [
    {
     "data": {
      "text/html": [
       "<div>\n",
       "<style scoped>\n",
       "    .dataframe tbody tr th:only-of-type {\n",
       "        vertical-align: middle;\n",
       "    }\n",
       "\n",
       "    .dataframe tbody tr th {\n",
       "        vertical-align: top;\n",
       "    }\n",
       "\n",
       "    .dataframe thead th {\n",
       "        text-align: right;\n",
       "    }\n",
       "</style>\n",
       "<table border=\"1\" class=\"dataframe\">\n",
       "  <thead>\n",
       "    <tr style=\"text-align: right;\">\n",
       "      <th></th>\n",
       "      <th>array_percentile_10</th>\n",
       "      <th>array_percentile_20</th>\n",
       "      <th>array_percentile_30</th>\n",
       "      <th>array_percentile_40</th>\n",
       "      <th>array_percentile_50</th>\n",
       "      <th>array_percentile_60</th>\n",
       "      <th>array_percentile_70</th>\n",
       "      <th>array_percentile_80</th>\n",
       "      <th>array_percentile_90</th>\n",
       "      <th>array_mean</th>\n",
       "      <th>...</th>\n",
       "      <th>fft_(2000, 5000)</th>\n",
       "      <th>fft_(5000, 16000)</th>\n",
       "      <th>fft_(16000, 160000)</th>\n",
       "      <th>path</th>\n",
       "      <th>rms_mean_0</th>\n",
       "      <th>spec_cent_mean_0</th>\n",
       "      <th>spec_bw_mean_0</th>\n",
       "      <th>rolloff_mean_0</th>\n",
       "      <th>zcr_mean_0</th>\n",
       "      <th>abnormal</th>\n",
       "    </tr>\n",
       "  </thead>\n",
       "  <tbody>\n",
       "    <tr>\n",
       "      <th>0</th>\n",
       "      <td>-0.010830</td>\n",
       "      <td>-0.007339</td>\n",
       "      <td>-0.004650</td>\n",
       "      <td>-0.002262</td>\n",
       "      <td>0.000004</td>\n",
       "      <td>0.002270</td>\n",
       "      <td>0.004639</td>\n",
       "      <td>0.007301</td>\n",
       "      <td>0.010750</td>\n",
       "      <td>-7.599830e-07</td>\n",
       "      <td>...</td>\n",
       "      <td>0.001128</td>\n",
       "      <td>0.000668</td>\n",
       "      <td>0.000018</td>\n",
       "      <td>data/0_dB_pump/pump/id_04/normal/00000003.wav</td>\n",
       "      <td>NaN</td>\n",
       "      <td>NaN</td>\n",
       "      <td>NaN</td>\n",
       "      <td>NaN</td>\n",
       "      <td>NaN</td>\n",
       "      <td>0</td>\n",
       "    </tr>\n",
       "    <tr>\n",
       "      <th>1</th>\n",
       "      <td>-0.008019</td>\n",
       "      <td>-0.005299</td>\n",
       "      <td>-0.003345</td>\n",
       "      <td>-0.001652</td>\n",
       "      <td>-0.000050</td>\n",
       "      <td>0.001560</td>\n",
       "      <td>0.003284</td>\n",
       "      <td>0.005325</td>\n",
       "      <td>0.008080</td>\n",
       "      <td>2.797127e-07</td>\n",
       "      <td>...</td>\n",
       "      <td>0.001623</td>\n",
       "      <td>0.000404</td>\n",
       "      <td>0.000014</td>\n",
       "      <td>data/0_dB_pump/pump/id_04/normal/00000013.wav</td>\n",
       "      <td>NaN</td>\n",
       "      <td>NaN</td>\n",
       "      <td>NaN</td>\n",
       "      <td>NaN</td>\n",
       "      <td>NaN</td>\n",
       "      <td>0</td>\n",
       "    </tr>\n",
       "    <tr>\n",
       "      <th>2</th>\n",
       "      <td>-0.006237</td>\n",
       "      <td>-0.004097</td>\n",
       "      <td>-0.002549</td>\n",
       "      <td>-0.001209</td>\n",
       "      <td>0.000023</td>\n",
       "      <td>0.001247</td>\n",
       "      <td>0.002556</td>\n",
       "      <td>0.004093</td>\n",
       "      <td>0.006207</td>\n",
       "      <td>-5.841970e-07</td>\n",
       "      <td>...</td>\n",
       "      <td>0.001063</td>\n",
       "      <td>0.000357</td>\n",
       "      <td>0.000011</td>\n",
       "      <td>data/0_dB_pump/pump/id_04/normal/00000179.wav</td>\n",
       "      <td>NaN</td>\n",
       "      <td>NaN</td>\n",
       "      <td>NaN</td>\n",
       "      <td>NaN</td>\n",
       "      <td>NaN</td>\n",
       "      <td>0</td>\n",
       "    </tr>\n",
       "    <tr>\n",
       "      <th>3</th>\n",
       "      <td>-0.007214</td>\n",
       "      <td>-0.004749</td>\n",
       "      <td>-0.002937</td>\n",
       "      <td>-0.001377</td>\n",
       "      <td>0.000053</td>\n",
       "      <td>0.001503</td>\n",
       "      <td>0.003021</td>\n",
       "      <td>0.004765</td>\n",
       "      <td>0.007107</td>\n",
       "      <td>1.208544e-07</td>\n",
       "      <td>...</td>\n",
       "      <td>0.001359</td>\n",
       "      <td>0.000409</td>\n",
       "      <td>0.000012</td>\n",
       "      <td>data/0_dB_pump/pump/id_04/normal/00000235.wav</td>\n",
       "      <td>NaN</td>\n",
       "      <td>NaN</td>\n",
       "      <td>NaN</td>\n",
       "      <td>NaN</td>\n",
       "      <td>NaN</td>\n",
       "      <td>0</td>\n",
       "    </tr>\n",
       "    <tr>\n",
       "      <th>4</th>\n",
       "      <td>-0.005821</td>\n",
       "      <td>-0.003799</td>\n",
       "      <td>-0.002365</td>\n",
       "      <td>-0.001129</td>\n",
       "      <td>0.000011</td>\n",
       "      <td>0.001160</td>\n",
       "      <td>0.002377</td>\n",
       "      <td>0.003811</td>\n",
       "      <td>0.005795</td>\n",
       "      <td>-8.322000e-07</td>\n",
       "      <td>...</td>\n",
       "      <td>0.000924</td>\n",
       "      <td>0.000308</td>\n",
       "      <td>0.000011</td>\n",
       "      <td>data/0_dB_pump/pump/id_04/normal/00000186.wav</td>\n",
       "      <td>NaN</td>\n",
       "      <td>NaN</td>\n",
       "      <td>NaN</td>\n",
       "      <td>NaN</td>\n",
       "      <td>NaN</td>\n",
       "      <td>0</td>\n",
       "    </tr>\n",
       "  </tbody>\n",
       "</table>\n",
       "<p>5 rows × 150 columns</p>\n",
       "</div>"
      ],
      "text/plain": [
       "   array_percentile_10  array_percentile_20  array_percentile_30  \\\n",
       "0            -0.010830            -0.007339            -0.004650   \n",
       "1            -0.008019            -0.005299            -0.003345   \n",
       "2            -0.006237            -0.004097            -0.002549   \n",
       "3            -0.007214            -0.004749            -0.002937   \n",
       "4            -0.005821            -0.003799            -0.002365   \n",
       "\n",
       "   array_percentile_40  array_percentile_50  array_percentile_60  \\\n",
       "0            -0.002262             0.000004             0.002270   \n",
       "1            -0.001652            -0.000050             0.001560   \n",
       "2            -0.001209             0.000023             0.001247   \n",
       "3            -0.001377             0.000053             0.001503   \n",
       "4            -0.001129             0.000011             0.001160   \n",
       "\n",
       "   array_percentile_70  array_percentile_80  array_percentile_90  \\\n",
       "0             0.004639             0.007301             0.010750   \n",
       "1             0.003284             0.005325             0.008080   \n",
       "2             0.002556             0.004093             0.006207   \n",
       "3             0.003021             0.004765             0.007107   \n",
       "4             0.002377             0.003811             0.005795   \n",
       "\n",
       "     array_mean  ...  fft_(2000, 5000)  fft_(5000, 16000)  \\\n",
       "0 -7.599830e-07  ...          0.001128           0.000668   \n",
       "1  2.797127e-07  ...          0.001623           0.000404   \n",
       "2 -5.841970e-07  ...          0.001063           0.000357   \n",
       "3  1.208544e-07  ...          0.001359           0.000409   \n",
       "4 -8.322000e-07  ...          0.000924           0.000308   \n",
       "\n",
       "   fft_(16000, 160000)                                           path  \\\n",
       "0             0.000018  data/0_dB_pump/pump/id_04/normal/00000003.wav   \n",
       "1             0.000014  data/0_dB_pump/pump/id_04/normal/00000013.wav   \n",
       "2             0.000011  data/0_dB_pump/pump/id_04/normal/00000179.wav   \n",
       "3             0.000012  data/0_dB_pump/pump/id_04/normal/00000235.wav   \n",
       "4             0.000011  data/0_dB_pump/pump/id_04/normal/00000186.wav   \n",
       "\n",
       "   rms_mean_0  spec_cent_mean_0  spec_bw_mean_0  rolloff_mean_0  zcr_mean_0  \\\n",
       "0         NaN               NaN             NaN             NaN         NaN   \n",
       "1         NaN               NaN             NaN             NaN         NaN   \n",
       "2         NaN               NaN             NaN             NaN         NaN   \n",
       "3         NaN               NaN             NaN             NaN         NaN   \n",
       "4         NaN               NaN             NaN             NaN         NaN   \n",
       "\n",
       "   abnormal  \n",
       "0         0  \n",
       "1         0  \n",
       "2         0  \n",
       "3         0  \n",
       "4         0  \n",
       "\n",
       "[5 rows x 150 columns]"
      ]
     },
     "execution_count": 4,
     "metadata": {},
     "output_type": "execute_result"
    }
   ],
   "source": [
    "df.head()"
   ]
  },
  {
   "cell_type": "code",
   "execution_count": 36,
   "id": "conditional-exemption",
   "metadata": {},
   "outputs": [
    {
     "data": {
      "text/plain": [
       "(11821, 145)"
      ]
     },
     "execution_count": 36,
     "metadata": {},
     "output_type": "execute_result"
    }
   ],
   "source": [
    "df.shape"
   ]
  },
  {
   "cell_type": "code",
   "execution_count": 30,
   "id": "productive-chancellor",
   "metadata": {},
   "outputs": [
    {
     "data": {
      "text/plain": [
       "inf"
      ]
     },
     "execution_count": 30,
     "metadata": {},
     "output_type": "execute_result"
    }
   ],
   "source": [
    "np.inf"
   ]
  },
  {
   "cell_type": "code",
   "execution_count": 38,
   "id": "absolute-execution",
   "metadata": {},
   "outputs": [
    {
     "data": {
      "text/plain": [
       "Index(['array_entropy'], dtype='object')"
      ]
     },
     "execution_count": 38,
     "metadata": {},
     "output_type": "execute_result"
    }
   ],
   "source": [
    "df.columns[(df == -np.inf).any()]"
   ]
  },
  {
   "cell_type": "code",
   "execution_count": 39,
   "id": "spare-creation",
   "metadata": {},
   "outputs": [],
   "source": [
    "df = df.drop('array_entropy', axis=1)"
   ]
  },
  {
   "cell_type": "code",
   "execution_count": 40,
   "id": "retired-shame",
   "metadata": {},
   "outputs": [
    {
     "data": {
      "text/plain": [
       "abnormal\n",
       "0           10453\n",
       "1            1368\n",
       "dtype: int64"
      ]
     },
     "execution_count": 40,
     "metadata": {},
     "output_type": "execute_result"
    }
   ],
   "source": [
    "df[['abnormal']].value_counts()"
   ]
  },
  {
   "cell_type": "code",
   "execution_count": 41,
   "id": "deadly-bicycle",
   "metadata": {},
   "outputs": [],
   "source": [
    "drop = df.columns[df.isna().sum()> 50]"
   ]
  },
  {
   "cell_type": "code",
   "execution_count": 42,
   "id": "temporal-progressive",
   "metadata": {},
   "outputs": [],
   "source": [
    "df = df.drop(drop, axis=1)"
   ]
  },
  {
   "cell_type": "code",
   "execution_count": 43,
   "id": "apart-potato",
   "metadata": {},
   "outputs": [],
   "source": [
    "df.dropna(inplace=True)"
   ]
  },
  {
   "cell_type": "markdown",
   "id": "phantom-outline",
   "metadata": {},
   "source": [
    "# Setting xtrain, xtest, ytrain, ytest"
   ]
  },
  {
   "cell_type": "code",
   "execution_count": 44,
   "id": "massive-diary",
   "metadata": {},
   "outputs": [],
   "source": [
    "X = df.drop(['path', 'abnormal'], axis=1)"
   ]
  },
  {
   "cell_type": "code",
   "execution_count": 45,
   "id": "golden-router",
   "metadata": {},
   "outputs": [],
   "source": [
    "y = df['abnormal']"
   ]
  },
  {
   "cell_type": "code",
   "execution_count": 46,
   "id": "fuzzy-jamaica",
   "metadata": {},
   "outputs": [],
   "source": [
    "X_train, X_test, y_train, y_test = train_test_split(X, y, test_size=0.2)"
   ]
  },
  {
   "cell_type": "code",
   "execution_count": 47,
   "id": "exciting-development",
   "metadata": {},
   "outputs": [],
   "source": [
    "meta_features = {\n",
    "    'n_estimators': 100,\n",
    "    'criterion': 'gini',\n",
    "    'max_depth': None,\n",
    "    'min_samples_split': 2,\n",
    "    'min_samples_leaf': 1,\n",
    "    'min_weight_fraction_leaf': 0.0,\n",
    "    'max_features': 'auto',\n",
    "    'max_leaf_nodes': None,\n",
    "}"
   ]
  },
  {
   "cell_type": "code",
   "execution_count": 51,
   "id": "opening-necklace",
   "metadata": {},
   "outputs": [],
   "source": [
    "rfc = RandomForestClassifier(**meta_features)"
   ]
  },
  {
   "cell_type": "code",
   "execution_count": 52,
   "id": "miniature-appendix",
   "metadata": {},
   "outputs": [
    {
     "data": {
      "text/plain": [
       "False"
      ]
     },
     "execution_count": 52,
     "metadata": {},
     "output_type": "execute_result"
    }
   ],
   "source": [
    "X_train.isna().any().any()"
   ]
  },
  {
   "cell_type": "code",
   "execution_count": 53,
   "id": "attractive-drawing",
   "metadata": {},
   "outputs": [
    {
     "data": {
      "text/plain": [
       "RandomForestClassifier()"
      ]
     },
     "execution_count": 53,
     "metadata": {},
     "output_type": "execute_result"
    }
   ],
   "source": [
    "rfc.fit(X_train, y_train)"
   ]
  },
  {
   "cell_type": "code",
   "execution_count": 56,
   "id": "confident-promise",
   "metadata": {},
   "outputs": [
    {
     "data": {
      "text/plain": [
       "0.9704016913319239"
      ]
     },
     "execution_count": 56,
     "metadata": {},
     "output_type": "execute_result"
    }
   ],
   "source": [
    "rfc.score(X_test, y_test)"
   ]
  },
  {
   "cell_type": "code",
   "execution_count": null,
   "id": "residential-navigator",
   "metadata": {},
   "outputs": [],
   "source": []
  }
 ],
 "metadata": {
  "kernelspec": {
   "display_name": "codit",
   "language": "python",
   "name": "codit"
  },
  "language_info": {
   "codemirror_mode": {
    "name": "ipython",
    "version": 3
   },
   "file_extension": ".py",
   "mimetype": "text/x-python",
   "name": "python",
   "nbconvert_exporter": "python",
   "pygments_lexer": "ipython3",
   "version": "3.9.2"
  }
 },
 "nbformat": 4,
 "nbformat_minor": 5
}
