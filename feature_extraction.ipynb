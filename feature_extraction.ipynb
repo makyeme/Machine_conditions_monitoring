{
 "cells": [
  {
   "cell_type": "code",
   "execution_count": 1,
   "id": "confirmed-forest",
   "metadata": {},
   "outputs": [],
   "source": [
    "import pandas as pd\n",
    "import numpy as np\n",
    "import librosa \n",
    "import IPython.display as ipd #palying audio\n",
    "%matplotlib inline\n",
    "import matplotlib.pyplot as plt\n",
    "import librosa.display\n",
    "\n",
    "import os\n",
    "\n",
    "SR = 16000"
   ]
  },
  {
   "cell_type": "code",
   "execution_count": 2,
   "id": "victorian-documentary",
   "metadata": {},
   "outputs": [],
   "source": [
    "pump_normal1 = ('data/0_dB_pump/pump/id_00/abnormal/00000000.wav')\n"
   ]
  },
  {
   "cell_type": "code",
   "execution_count": 10,
   "id": "satisfied-framework",
   "metadata": {},
   "outputs": [
    {
     "data": {
      "text/plain": [
       "False"
      ]
     },
     "execution_count": 10,
     "metadata": {},
     "output_type": "execute_result"
    }
   ],
   "source": [
    "os.path.isdir('/data')"
   ]
  },
  {
   "cell_type": "code",
   "execution_count": 13,
   "id": "divided-certification",
   "metadata": {},
   "outputs": [],
   "source": [
    "files = []\n",
    "count = 0\n",
    "for paths, subdirs, files in os.walk('data'):\n",
    "    for name in files:\n",
    "        print(os.path.join(paths, name))"
   ]
  },
  {
   "cell_type": "code",
   "execution_count": 2,
   "id": "appropriate-opera",
   "metadata": {},
   "outputs": [
    {
     "data": {
      "text/plain": [
       "'/home/simon/PycharmProjects/Machine_conditions_monitoring'"
      ]
     },
     "execution_count": 2,
     "metadata": {},
     "output_type": "execute_result"
    }
   ],
   "source": [
    "os.getcwd()"
   ]
  },
  {
   "cell_type": "code",
   "execution_count": 7,
   "id": "disciplinary-alignment",
   "metadata": {},
   "outputs": [],
   "source": [
    "file = open('data.csv', 'w', newline='')\n",
    "with file:\n",
    "    writer = csv.writer(file)\n",
    "    writer.writerow(header)\n",
    "genres = 'blues classical country disco hiphop jazz metal pop reggae rock'.split()\n",
    "for g in genres:\n",
    "    for filename in os.listdir(f'./genres/{g}'):\n",
    "        songname = f'./genres/{g}/{filename}'\n",
    "        y, sr = librosa.load(songname, mono=True, duration=30)\n",
    "        chroma_stft = librosa.feature.chroma_stft(y=y, sr=sr)\n",
    "        rmse = librosa.feature.rmse(y=y)\n",
    "        spec_cent = librosa.feature.spectral_centroid(y=y, sr=sr)\n",
    "        spec_bw = librosa.feature.spectral_bandwidth(y=y, sr=sr)\n",
    "        rolloff = librosa.feature.spectral_rolloff(y=y, sr=sr)\n",
    "        zcr = librosa.feature.zero_crossing_rate(y)\n",
    "        mfcc = librosa.feature.mfcc(y=y, sr=sr)\n",
    "        to_append = f'{filename} {np.mean(chroma_stft)} {np.mean(rmse)} {np.mean(spec_cent)} {np.mean(spec_bw)} {np.mean(rolloff)} {np.mean(zcr)}'    \n",
    "        for e in mfcc:\n",
    "            to_append += f' {np.mean(e)}'\n",
    "        to_append += f' {g}'\n",
    "        file = open('data.csv', 'a', newline='')\n",
    "        with file:\n",
    "            writer = csv.writer(file)\n",
    "            writer.writerow(to_append.split())"
   ]
  },
  {
   "cell_type": "code",
   "execution_count": 9,
   "id": "functional-intersection",
   "metadata": {},
   "outputs": [
    {
     "data": {
      "text/plain": [
       "(1, 313)"
      ]
     },
     "execution_count": 9,
     "metadata": {},
     "output_type": "execute_result"
    }
   ],
   "source": [
    "rmse.shape"
   ]
  },
  {
   "cell_type": "code",
   "execution_count": 11,
   "id": "sophisticated-decision",
   "metadata": {},
   "outputs": [
    {
     "data": {
      "text/plain": [
       "(1, 313)"
      ]
     },
     "execution_count": 11,
     "metadata": {},
     "output_type": "execute_result"
    }
   ],
   "source": [
    "spec_cent.shape"
   ]
  },
  {
   "cell_type": "code",
   "execution_count": null,
   "id": "democratic-elder",
   "metadata": {},
   "outputs": [],
   "source": [
    "feat_ylim_dict = {\n",
    "    'rmse': (0, 0.035),\n",
    "    'spec_cent': (1500, 4000),\n",
    "    'spec_bw': (1700, 3500),\n",
    "    'rolloff': (2000, 9000),\n",
    "    'zcr': (0.05, 0.3),\n",
    "    }"
   ]
  }
 ],
 "metadata": {
  "kernelspec": {
   "display_name": "codit",
   "language": "python",
   "name": "codit"
  },
  "language_info": {
   "codemirror_mode": {
    "name": "ipython",
    "version": 3
   },
   "file_extension": ".py",
   "mimetype": "text/x-python",
   "name": "python",
   "nbconvert_exporter": "python",
   "pygments_lexer": "ipython3",
   "version": "3.9.2"
  }
 },
 "nbformat": 4,
 "nbformat_minor": 5
}
